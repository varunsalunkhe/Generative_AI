{
  "nbformat": 4,
  "nbformat_minor": 0,
  "metadata": {
    "colab": {
      "provenance": [],
      "gpuType": "T4"
    },
    "kernelspec": {
      "name": "python3",
      "display_name": "Python 3"
    },
    "language_info": {
      "name": "python"
    },
    "accelerator": "GPU"
  },
  "cells": [
    {
      "cell_type": "code",
      "execution_count": 9,
      "metadata": {
        "id": "_e6CTeeHcdoZ"
      },
      "outputs": [],
      "source": [
        "# !pip install gradientai --upgrade"
      ]
    },
    {
      "cell_type": "code",
      "source": [
        "import os\n",
        "os.environ['GRADIENT_WORKSPACE_ID']='---------------------------'\n",
        "os.environ['GRADIENT_ACCESS_TOKEN']='-------------------------'"
      ],
      "metadata": {
        "id": "SU3cUwwacjww"
      },
      "execution_count": 10,
      "outputs": []
    },
    {
      "cell_type": "code",
      "source": [
        "from gradientai import Gradient\n",
        "\n",
        "gradient = Gradient()\n",
        "\n",
        "base_model = gradient.get_base_model(base_model_slug=\"nous-hermes2\")\n",
        "\n",
        "new_model_adapter = base_model.create_model_adapter(\n",
        "        name=\"GenAIModel\"\n",
        "    )\n",
        "print(f\"Created model adapter with id {new_model_adapter.id}\")\n",
        "\n"
      ],
      "metadata": {
        "colab": {
          "base_uri": "https://localhost:8080/"
        },
        "id": "0U5D6rx6deHY",
        "outputId": "34c8ef50-0127-4d29-8f3f-8077e1ff6f4c"
      },
      "execution_count": 11,
      "outputs": [
        {
          "output_type": "stream",
          "name": "stdout",
          "text": [
            "Created model adapter with id 906a9f08-5d82-43a1-84d5-26348f07291c_model_adapter\n"
          ]
        }
      ]
    },
    {
      "cell_type": "code",
      "source": [
        "sample_query = \"### who is Varun Salunkhe? \\n\\n ### Response:\"\n",
        "print(f\"Asking: {sample_query}\")\n",
        "## Before Finetuning\n",
        "completion = new_model_adapter.complete(query=sample_query, max_generated_token_count=100).generated_output\n",
        "print(f\"Generated(before fine tuning): {completion}\")"
      ],
      "metadata": {
        "id": "HZr2Ams1TVxp",
        "outputId": "a0a6b3ba-1b6c-4df5-ac5a-450d34df5165",
        "colab": {
          "base_uri": "https://localhost:8080/"
        }
      },
      "execution_count": 12,
      "outputs": [
        {
          "output_type": "stream",
          "name": "stdout",
          "text": [
            "Asking: ### who is Varun Salunkhe? \n",
            "\n",
            " ### Response:\n",
            "Generated(before fine tuning): Varun Salunkhe is an Indian actor and model who primarily works in the Hindi film industry. He was born on October 27, 1991, in Mumbai, India. Varun started his career as a model and went on to participate in the reality show \"MTV Splitsvilla\" in 2014. He made his acting debut with the film \"Banjo\" in 2016, which was followed by\n"
          ]
        }
      ]
    },
    {
      "cell_type": "code",
      "source": [
        "samples=[\n",
        "        {\"inputs\":\"### Instruction: Who is Varun Salunkhe? \\n\\n### Response: Varun Salunkhe is an employee of an orgnization called Wipro, he works as data scientist, works with ML, AL, GEN AI models\"},\n",
        "        {\"inputs\":\"### Instruction: Who is this person named Varun Salunkhe? \\n\\n### Response: Varun Salunkhe Like Data Science And AI And makes projects on it , passionate about it\"},\n",
        "        {\"inputs\":\"### Instruction: What do you know about Varun Salunkhe? \\n\\n### Response: Varun Salunkhe is works in the field of Data Science and his youtube channel name is World of data science\"},\n",
        "        {\"inputs\":\"### Instruction: Can you tell me about Varun Salunkhe? \\n\\n### Response: Varun Salunkhe is a guy who loves Data Science And AI and LLM's\"}\n",
        "    ]\n",
        "\n",
        "## Lets define parameters for finetuning\n",
        "num_epochs=3\n",
        "count=0\n",
        "while count<num_epochs:\n",
        "  print(f\"Fine tuning the model with iteration {count + 1}\")\n",
        "  new_model_adapter.fine_tune(samples=samples)\n",
        "  count=count+1"
      ],
      "metadata": {
        "id": "1t73HIPYWzmX",
        "outputId": "33fc2028-9bcd-4849-cf62-4439414413ed",
        "colab": {
          "base_uri": "https://localhost:8080/"
        }
      },
      "execution_count": 16,
      "outputs": [
        {
          "output_type": "stream",
          "name": "stdout",
          "text": [
            "Fine tuning the model with iteration 1\n",
            "Fine tuning the model with iteration 2\n",
            "Fine tuning the model with iteration 3\n"
          ]
        }
      ]
    },
    {
      "cell_type": "code",
      "source": [
        "#after fine tuning\n",
        "completion = new_model_adapter.complete(query=sample_query, max_generated_token_count=100).generated_output\n",
        "print(f\"Generated(after fine tuning): {completion}\")\n"
      ],
      "metadata": {
        "id": "z49SvymGWzsb",
        "outputId": "6c1425fe-4538-4b4e-b4da-6f2d65e190c9",
        "colab": {
          "base_uri": "https://localhost:8080/"
        }
      },
      "execution_count": 17,
      "outputs": [
        {
          "output_type": "stream",
          "name": "stdout",
          "text": [
            "Generated(after fine tuning):  Varun Salunkhe is an employee of an orgnization called Wipro, he works as data scientist, works with ML, AL, GEN AI models, passionate about his work, LLM's and TLM's are his day to day task, loves to code and explore new things everyday.\n"
          ]
        }
      ]
    },
    {
      "cell_type": "code",
      "source": [
        "# new_model_adapter.delete()\n",
        "# gradient.close()"
      ],
      "metadata": {
        "id": "b8fJbQZVZ7Rg"
      },
      "execution_count": null,
      "outputs": []
    }
  ]
}